{
 "cells": [
  {
   "cell_type": "markdown",
   "id": "6445d9e0",
   "metadata": {},
   "source": [
    "# Question 1"
   ]
  },
  {
   "cell_type": "code",
   "execution_count": 11,
   "id": "bc75da5c",
   "metadata": {},
   "outputs": [
    {
     "name": "stdout",
     "output_type": "stream",
     "text": [
      "enter your firstnameJAAFAR\n",
      "enter your lastnameBEN KHALED\n",
      "BEN KHALED JAAFAR\n"
     ]
    }
   ],
   "source": [
    "f=(input(\"enter your firstname\"))\n",
    "l=(input(\"enter your lastname\"))\n",
    "\n",
    "print (l , f )\n",
    "    "
   ]
  },
  {
   "cell_type": "markdown",
   "id": "cc4837a8",
   "metadata": {},
   "source": [
    "# Question 2 "
   ]
  },
  {
   "cell_type": "code",
   "execution_count": 30,
   "id": "d103c61b",
   "metadata": {
    "scrolled": true
   },
   "outputs": [
    {
     "name": "stdout",
     "output_type": "stream",
     "text": [
      "entrer un entier5\n",
      "615\n"
     ]
    }
   ],
   "source": [
    "n=int(input(\"entrer un entier\"))\n",
    "c1=n*11\n",
    "c2=n*111\n",
    "c= n+c1+c2\n",
    "print(c)\n",
    "\n",
    "\n"
   ]
  },
  {
   "cell_type": "markdown",
   "id": "2ec397fe",
   "metadata": {},
   "source": [
    "# Question 3\n"
   ]
  },
  {
   "cell_type": "code",
   "execution_count": 25,
   "id": "54872c4d",
   "metadata": {},
   "outputs": [
    {
     "name": "stdout",
     "output_type": "stream",
     "text": [
      "entrer un entier4\n",
      "ce nombre est pair\n"
     ]
    }
   ],
   "source": [
    "n=int(input(\"entrer un entier\"))\n",
    "if n%2 == 0 :\n",
    "    print('ce nombre est pair')\n",
    "else:\n",
    "    print(\"ce nombre est impair\")"
   ]
  },
  {
   "cell_type": "markdown",
   "id": "cb7f98d3",
   "metadata": {},
   "source": [
    "# QUESTION 4"
   ]
  },
  {
   "cell_type": "code",
   "execution_count": 4,
   "id": "ba01b6ae",
   "metadata": {},
   "outputs": [
    {
     "name": "stdout",
     "output_type": "stream",
     "text": [
      "[2002, 2009, 2016, 2023, 2037, 2044, 2051, 2058, 2072, 2079, 2086, 2093, 2107, 2114, 2121, 2128, 2142, 2149, 2156, 2163, 2177, 2184, 2191, 2198, 2212, 2219, 2226, 2233, 2247, 2254, 2261, 2268, 2282, 2289, 2296, 2303, 2317, 2324, 2331, 2338, 2352, 2359, 2366, 2373, 2387, 2394, 2401, 2408, 2422, 2429, 2436, 2443, 2457, 2464, 2471, 2478, 2492, 2499, 2506, 2513, 2527, 2534, 2541, 2548, 2562, 2569, 2576, 2583, 2597, 2604, 2611, 2618, 2632, 2639, 2646, 2653, 2667, 2674, 2681, 2688, 2702, 2709, 2716, 2723, 2737, 2744, 2751, 2758, 2772, 2779, 2786, 2793, 2807, 2814, 2821, 2828, 2842, 2849, 2856, 2863, 2877, 2884, 2891, 2898, 2912, 2919, 2926, 2933, 2947, 2954, 2961, 2968, 2982, 2989, 2996, 3003, 3017, 3024, 3031, 3038, 3052, 3059, 3066, 3073, 3087, 3094, 3101, 3108, 3122, 3129, 3136, 3143, 3157, 3164, 3171, 3178, 3192, 3199]\n"
     ]
    }
   ],
   "source": [
    "a = []\n",
    "\n",
    "for i in range(2000,3201):\n",
    "    if i%5 !=0 and i%7 ==0 :\n",
    "        a.append(i)\n",
    "\n",
    "print(a)\n",
    "        \n",
    "     \n",
    "        \n",
    "\n",
    "    \n",
    "    \n",
    "    \n",
    "    "
   ]
  },
  {
   "cell_type": "markdown",
   "id": "8c13cfb1",
   "metadata": {},
   "source": [
    "# QUESTION 5"
   ]
  },
  {
   "cell_type": "code",
   "execution_count": 27,
   "id": "84436a1c",
   "metadata": {
    "scrolled": true
   },
   "outputs": [
    {
     "name": "stdout",
     "output_type": "stream",
     "text": [
      "entrer un entier3\n",
      "6\n"
     ]
    }
   ],
   "source": [
    "n=int(input(\"entrer un entier\"))\n",
    "p=1\n",
    "for i in range(1,n+1):\n",
    "    p=p*i\n",
    "print(p)\n",
    "\n",
    "    "
   ]
  },
  {
   "cell_type": "markdown",
   "id": "1d2e40b0",
   "metadata": {},
   "source": [
    "# Question 6 "
   ]
  },
  {
   "cell_type": "code",
   "execution_count": 29,
   "id": "355e72df",
   "metadata": {},
   "outputs": [
    {
     "name": "stdout",
     "output_type": "stream",
     "text": [
      "enter votre motbonjour\n",
      "bnor\n"
     ]
    }
   ],
   "source": [
    "mot=input(\"enter votre mot\")\n",
    "ch=\"\"\n",
    "for i in range(len(mot)):\n",
    "    if i%2 ==0:\n",
    "        ch=ch+mot[i]\n",
    "print(ch)\n",
    "        \n",
    "\n",
    "        \n",
    "        \n",
    "\n"
   ]
  },
  {
   "cell_type": "markdown",
   "id": "d5b8866e",
   "metadata": {},
   "source": [
    "# QUESTION 7 "
   ]
  },
  {
   "cell_type": "code",
   "execution_count": 21,
   "id": "b7659a3f",
   "metadata": {},
   "outputs": [
    {
     "name": "stdout",
     "output_type": "stream",
     "text": [
      "entrer votre prix2\n",
      "il y'aura une remise de 30%\n"
     ]
    }
   ],
   "source": [
    "prix=int(input(\"entrer votre prix\"))\n",
    "if prix >= 500:\n",
    "    print(\"il y'aura une remise de 50%\")\n",
    "elif prix >= 200 and prix < 500 :\n",
    "    print(\"il y'aura une remise de 30%\")\n",
    "elif prix<200 :\n",
    "    print(\"il y'aura une remise de 10%\")\n",
    "    "
   ]
  },
  {
   "cell_type": "code",
   "execution_count": null,
   "id": "d104df89",
   "metadata": {},
   "outputs": [],
   "source": []
  },
  {
   "cell_type": "code",
   "execution_count": null,
   "id": "d4a014ba",
   "metadata": {},
   "outputs": [],
   "source": []
  }
 ],
 "metadata": {
  "kernelspec": {
   "display_name": "Python 3",
   "language": "python",
   "name": "python3"
  },
  "language_info": {
   "codemirror_mode": {
    "name": "ipython",
    "version": 3
   },
   "file_extension": ".py",
   "mimetype": "text/x-python",
   "name": "python",
   "nbconvert_exporter": "python",
   "pygments_lexer": "ipython3",
   "version": "3.8.8"
  }
 },
 "nbformat": 4,
 "nbformat_minor": 5
}
