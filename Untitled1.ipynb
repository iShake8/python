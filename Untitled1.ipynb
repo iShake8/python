{
 "cells": [
  {
   "cell_type": "markdown",
   "id": "5d5d7038",
   "metadata": {},
   "source": [
    "#Exercice 1 \n"
   ]
  },
  {
   "cell_type": "code",
   "execution_count": 10,
   "id": "7dfb47c5",
   "metadata": {},
   "outputs": [
    {
     "data": {
      "text/plain": [
       "35"
      ]
     },
     "execution_count": 10,
     "metadata": {},
     "output_type": "execute_result"
    }
   ],
   "source": [
    "\n",
    "def maximum(a,b,c):\n",
    "\n",
    "    if a>b and a>c:\n",
    "        return(a)\n",
    "    elif b>a and b>c:\n",
    "        return(b)\n",
    "    elif c>a and c>b:\n",
    "        return(c)\n",
    "maximum(20,35,19)\n",
    "\n",
    "\n"
   ]
  },
  {
   "cell_type": "markdown",
   "id": "332fb52a",
   "metadata": {},
   "source": [
    "#Exercice 2"
   ]
  },
  {
   "cell_type": "code",
   "execution_count": 24,
   "id": "10dbafbe",
   "metadata": {},
   "outputs": [
    {
     "data": {
      "text/plain": [
       "(5, 1)"
      ]
     },
     "execution_count": 24,
     "metadata": {},
     "output_type": "execute_result"
    }
   ],
   "source": [
    "def calcul(a,b):\n",
    "    s= a+b\n",
    "    f= a-b\n",
    "    return s , f\n",
    "\n",
    "calcul(3,2)\n",
    "    \n"
   ]
  },
  {
   "cell_type": "code",
   "execution_count": null,
   "id": "f7f79013",
   "metadata": {},
   "outputs": [],
   "source": [
    "#Exercice 3 \n"
   ]
  },
  {
   "cell_type": "code",
   "execution_count": 95,
   "id": "a5c31cf1",
   "metadata": {},
   "outputs": [
    {
     "name": "stdout",
     "output_type": "stream",
     "text": [
      "4\n",
      "24\n",
      "[1, 3]\n",
      "[2, 4]\n"
     ]
    }
   ],
   "source": [
    "\n",
    "liste= [1,2,3,4]\n",
    "\n",
    "listep=[]\n",
    "listei=[]\n",
    "\n",
    "for i in range(0,len(liste)):\n",
    "    if i%2 == 0 :\n",
    "        listep.append(liste[i])\n",
    "    else :\n",
    "        listei.append(liste[i])\n",
    "    \n",
    "      \n",
    "\n",
    "# Fonctions\n",
    "\n",
    "def addition(x):\n",
    "    resultat = sum(x)\n",
    "    return  resultat\n",
    "\n",
    "\n",
    "def multi(x):\n",
    "    resultat = 1\n",
    "    for x in liste:\n",
    "         resultat = resultat * x\n",
    "    return resultat\n",
    "\n",
    "\n",
    "\n",
    "\n",
    "\n",
    "# afficher\n",
    "print((addition(listep)))\n",
    "print((multi(listei)))\n",
    "print(listep)\n",
    "print(listei)\n"
   ]
  },
  {
   "cell_type": "raw",
   "id": "371adb5a",
   "metadata": {},
   "source": [
    "#Exercice 4 \n"
   ]
  },
  {
   "cell_type": "code",
   "execution_count": null,
   "id": "0d71a652",
   "metadata": {},
   "outputs": [],
   "source": [
    "\n",
    "mot=[n for n in input().split('-')]  \n",
    "mot.sort()  # trie\n",
    "\n",
    "print('-'.join(mot))   # 'sep'.join(iterable)"
   ]
  },
  {
   "cell_type": "code",
   "execution_count": null,
   "id": "816fc36e",
   "metadata": {},
   "outputs": [],
   "source": []
  }
 ],
 "metadata": {
  "kernelspec": {
   "display_name": "Python 3",
   "language": "python",
   "name": "python3"
  },
  "language_info": {
   "codemirror_mode": {
    "name": "ipython",
    "version": 3
   },
   "file_extension": ".py",
   "mimetype": "text/x-python",
   "name": "python",
   "nbconvert_exporter": "python",
   "pygments_lexer": "ipython3",
   "version": "3.8.8"
  }
 },
 "nbformat": 4,
 "nbformat_minor": 5
}
