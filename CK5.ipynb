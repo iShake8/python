{
 "cells": [
  {
   "cell_type": "markdown",
   "id": "b2839d90",
   "metadata": {},
   "source": [
    "#Exercice 1 "
   ]
  },
  {
   "cell_type": "code",
   "execution_count": 15,
   "id": "99c5ced0",
   "metadata": {},
   "outputs": [
    {
     "name": "stdout",
     "output_type": "stream",
     "text": [
      "x : 1  y :  2  z :  3\n"
     ]
    }
   ],
   "source": [
    "class  Point3D:\n",
    "    def __init__(self,x,y,z):\n",
    "        self.x = x\n",
    "        self.y = y\n",
    "        self.z = z \n",
    "\n",
    "\n",
    "my_point= Point3D(1,2,3)\n",
    "print(\"x :\",my_point.x,\" y : \",my_point.y , \" z : \",my_point.z)"
   ]
  },
  {
   "cell_type": "markdown",
   "id": "daa08e63",
   "metadata": {},
   "source": [
    "#Exercice 2 "
   ]
  },
  {
   "cell_type": "code",
   "execution_count": 30,
   "id": "a39bffff",
   "metadata": {},
   "outputs": [
    {
     "name": "stdout",
     "output_type": "stream",
     "text": [
      "perimetre: 14\n",
      "air: 12\n"
     ]
    }
   ],
   "source": [
    "# Class\n",
    "class rectangle:\n",
    "    def __init__(self, longueur , largeur):\n",
    "        self.longueur= longueur\n",
    "        self.largeur= largeur\n",
    "\n",
    "        \n",
    "#methode\n",
    "\n",
    "    def perimetre(self):\n",
    "        return 2*(self.longueur+self.largeur)\n",
    "\n",
    "    def air(self):\n",
    "        return self.longueur*self.largeur\n",
    "\n",
    "# objet\n",
    "rectangle1= rectangle(4,3)\n",
    "\n",
    "\n",
    "# afficher\n",
    "\n",
    "print(\"perimetre:\",rectangle1.perimetre())\n",
    "print(\"air:\", rectangle1.air())\n",
    "\n",
    "\n",
    "\n",
    "\n",
    "    "
   ]
  },
  {
   "cell_type": "markdown",
   "id": "aff8ca7f",
   "metadata": {},
   "source": [
    "#Exercice 3"
   ]
  },
  {
   "cell_type": "code",
   "execution_count": 5,
   "id": "537f38bc",
   "metadata": {},
   "outputs": [
    {
     "name": "stdout",
     "output_type": "stream",
     "text": [
      "test d'appartenance du point A(2,2) :  False\n"
     ]
    }
   ],
   "source": [
    "from math import * \n",
    "\n",
    "class cercle:\n",
    "    def __init__(self,x,y,rayon):\n",
    "        self.x=x\n",
    "        self.y=y\n",
    "        self.rayon=rayon\n",
    "        \n",
    "        \n",
    "    \n",
    "# Methodes*\n",
    "\n",
    "    def surface(self):\n",
    "        return pi*self.rayon**2\n",
    "\n",
    "    def peri(self):\n",
    "        return 2*pi*self.rayon\n",
    "    \n",
    "    def isInside(self,a,b):\n",
    "        return (a-self.x)**2 + (b-self.y)**2 == self.rayon\n",
    "        \n",
    "        \n",
    "        \n",
    "lecercle=cercle(0,0,2)\n",
    "\n",
    "\n",
    "\n",
    "# afficher\n",
    "\n",
    "\n",
    "print(\"test d'appartenance du point X(2,2) : \", lecercle.isInside(2,2))\n",
    "    \n",
    "\n",
    "\n",
    "\n",
    "\n",
    "\n",
    "\n",
    "\n",
    "\n",
    "\n",
    "\n",
    "\n",
    "\n",
    "\n",
    "\n",
    "\n",
    "\n",
    "\n",
    "\n",
    "\n",
    "\n",
    "\n",
    "\n",
    "    \n"
   ]
  },
  {
   "cell_type": "markdown",
   "id": "ecfc51e5",
   "metadata": {},
   "source": [
    "#Exercice  4 \n"
   ]
  },
  {
   "cell_type": "code",
   "execution_count": 46,
   "id": "8c087d66",
   "metadata": {},
   "outputs": [
    {
     "name": "stdout",
     "output_type": "stream",
     "text": [
      "entrer votre montant200\n",
      "votre nouveau solde est de :  800\n",
      "votre nouveau solde est de :  1200\n"
     ]
    }
   ],
   "source": [
    "montant = int(input(\"entrer votre montant\"))\n",
    "class bank:\n",
    "    def __init__(self,solde):\n",
    "        self.solde = solde \n",
    "        \n",
    "#methodes\n",
    "\n",
    "    def retrait(self):\n",
    "        return self.solde - montant\n",
    "    def depot(self):\n",
    "        return self.solde + montant\n",
    "\n",
    "# objet \n",
    "\n",
    "money= bank(1000)\n",
    "\n",
    "#Afficher\n",
    "\n",
    "print(\"votre nouveau solde est de : \", money.retrait())\n",
    "print(\"votre nouveau solde est de : \", money.depot())\n",
    "\n",
    "\n",
    "\n",
    "\n"
   ]
  },
  {
   "cell_type": "code",
   "execution_count": null,
   "id": "337685dc",
   "metadata": {},
   "outputs": [],
   "source": []
  },
  {
   "cell_type": "code",
   "execution_count": null,
   "id": "4fcfde2d",
   "metadata": {},
   "outputs": [],
   "source": []
  }
 ],
 "metadata": {
  "kernelspec": {
   "display_name": "Python 3",
   "language": "python",
   "name": "python3"
  },
  "language_info": {
   "codemirror_mode": {
    "name": "ipython",
    "version": 3
   },
   "file_extension": ".py",
   "mimetype": "text/x-python",
   "name": "python",
   "nbconvert_exporter": "python",
   "pygments_lexer": "ipython3",
   "version": "3.8.8"
  }
 },
 "nbformat": 4,
 "nbformat_minor": 5
}
