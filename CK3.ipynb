{
 "cells": [
  {
   "cell_type": "markdown",
   "id": "4ae9443e",
   "metadata": {},
   "source": [
    "#Exercie 1 \n"
   ]
  },
  {
   "cell_type": "code",
   "execution_count": null,
   "id": "60303a60",
   "metadata": {},
   "outputs": [],
   "source": [
    "import math\n",
    "My_liste= [2,3,6]\n",
    "result1 = math.prod(My_liste)\n",
    "print(result1)\n",
    "    "
   ]
  },
  {
   "cell_type": "markdown",
   "id": "d9b8df36",
   "metadata": {},
   "source": [
    "#Exerice 2 \n"
   ]
  },
  {
   "cell_type": "code",
   "execution_count": null,
   "id": "7ced6cd1",
   "metadata": {},
   "outputs": [],
   "source": [
    "l= [(2, 5), (1, 2), (4, 4), (2, 3), (2, 1)]\n",
    "print(sorted(l, key=lambda x: float(x[1])))\n",
    "\n",
    "\n"
   ]
  },
  {
   "cell_type": "markdown",
   "id": "c7b49352",
   "metadata": {},
   "source": [
    "#Exercie 3\n"
   ]
  },
  {
   "cell_type": "code",
   "execution_count": null,
   "id": "aa7dcb05",
   "metadata": {},
   "outputs": [],
   "source": [
    "d1 = {'a': 100, 'b': 200, 'c':300}\n",
    "d2 = {'a': 300, 'b': 200, 'd':400}\n",
    "\n",
    "for key in d2:\n",
    "    if key in d1:\n",
    "        d2[key] = d1[key] + d2[key]\n",
    "    else:\n",
    "        pass\n",
    "for key in d1:\n",
    "    if key not in d2:\n",
    "        d2[key]=  d1[key]\n",
    "    else:\n",
    "        pass\n",
    "        \n",
    "\n",
    "        \n",
    "        \n",
    "print(d2)\n",
    "\n"
   ]
  },
  {
   "cell_type": "markdown",
   "id": "7021ef78",
   "metadata": {},
   "source": [
    "#Exercice 5 "
   ]
  },
  {
   "cell_type": "code",
   "execution_count": null,
   "id": "d4bea37a",
   "metadata": {},
   "outputs": [],
   "source": [
    "l= [('item1', '12.20'), ('item2', '15.10'), ('item3', '24.5')]\n",
    "print(sorted(l, key=lambda x: float(x[1]), reverse=True))\n"
   ]
  },
  {
   "cell_type": "markdown",
   "id": "8f7f0e10",
   "metadata": {},
   "source": [
    "#Exercice 4\n"
   ]
  },
  {
   "cell_type": "code",
   "execution_count": null,
   "id": "56d2ffd4",
   "metadata": {},
   "outputs": [],
   "source": [
    "d={}\n",
    "for i in range(1,9):\n",
    "    d[i]=i**2\n",
    "print(d)\n",
    "    \n",
    "    \n",
    "\n",
    "\n",
    "\n",
    "\n",
    "\n",
    "    \n",
    "\n"
   ]
  }
 ],
 "metadata": {
  "kernelspec": {
   "display_name": "Python 3",
   "language": "python",
   "name": "python3"
  },
  "language_info": {
   "codemirror_mode": {
    "name": "ipython",
    "version": 3
   },
   "file_extension": ".py",
   "mimetype": "text/x-python",
   "name": "python",
   "nbconvert_exporter": "python",
   "pygments_lexer": "ipython3",
   "version": "3.8.8"
  }
 },
 "nbformat": 4,
 "nbformat_minor": 5
}
