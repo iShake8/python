{
 "cells": [
  {
   "cell_type": "markdown",
   "id": "cdd2e5df",
   "metadata": {},
   "source": [
    "Error 1 :\n"
   ]
  },
  {
   "cell_type": "code",
   "execution_count": 5,
   "id": "136f56dd",
   "metadata": {},
   "outputs": [
    {
     "data": {
      "text/plain": [
       "'hello'"
      ]
     },
     "execution_count": 5,
     "metadata": {},
     "output_type": "execute_result"
    }
   ],
   "source": [
    "mylist=[14, \"hello\", 967]\n",
    "mylist[1]\n",
    "# il y'a seulement 3 index "
   ]
  },
  {
   "cell_type": "markdown",
   "id": "f914262b",
   "metadata": {},
   "source": [
    "Error 2 : "
   ]
  },
  {
   "cell_type": "code",
   "execution_count": 14,
   "id": "431566ac",
   "metadata": {},
   "outputs": [],
   "source": [
    "import pandas\n",
    "import numpy\n",
    "\n",
    "# Erreur de syntaxe dans les noms des modules "
   ]
  },
  {
   "cell_type": "markdown",
   "id": "cb2efc07",
   "metadata": {},
   "source": [
    "Error 3 :"
   ]
  },
  {
   "cell_type": "code",
   "execution_count": 19,
   "id": "97ff6b14",
   "metadata": {},
   "outputs": [
    {
     "name": "stdout",
     "output_type": "stream",
     "text": [
      "python errors\n"
     ]
    }
   ],
   "source": [
    "print(\"python errors\")\n",
    "# erreur dans la syntaxe du ' print ' et il manque les parenthèses "
   ]
  },
  {
   "cell_type": "markdown",
   "id": "c8648ad9",
   "metadata": {},
   "source": [
    "Eroor 4 :"
   ]
  },
  {
   "cell_type": "code",
   "execution_count": 22,
   "id": "f0ebbe25",
   "metadata": {},
   "outputs": [
    {
     "data": {
      "text/plain": [
       "'hello'"
      ]
     },
     "execution_count": 22,
     "metadata": {},
     "output_type": "execute_result"
    }
   ],
   "source": [
    "mydictionnary={True:\"hello\",False:\"bye\", '3':\"python\"}\n",
    "mydictionnary[True]\n",
    "# On enléve les guillemets"
   ]
  },
  {
   "cell_type": "markdown",
   "id": "fbb17375",
   "metadata": {},
   "source": [
    "Error 5 :"
   ]
  },
  {
   "cell_type": "code",
   "execution_count": null,
   "id": "73b8465e",
   "metadata": {},
   "outputs": [],
   "source": [
    "i=14\n",
    "while i<78:\n",
    "    print(i)\n",
    "i+=1\n",
    "# le print doit appartenir au bloc de \" while \" \" "
   ]
  },
  {
   "cell_type": "markdown",
   "id": "6cf3af9a",
   "metadata": {},
   "source": [
    "Error 6 :"
   ]
  },
  {
   "cell_type": "code",
   "execution_count": null,
   "id": "4ba81ff0",
   "metadata": {},
   "outputs": [],
   "source": [
    "it=iter([1,2,3])\n",
    "next(it)\n",
    "next(it)\n",
    "next(it)\n",
    "# Il faut mettre 3 next  seulement"
   ]
  },
  {
   "cell_type": "code",
   "execution_count": null,
   "id": "1bb31a7c",
   "metadata": {},
   "outputs": [],
   "source": [
    "15+15\n",
    "# 15 c'est un int et non un string"
   ]
  },
  {
   "cell_type": "markdown",
   "id": "754dd756",
   "metadata": {},
   "source": [
    "Error 6"
   ]
  },
  {
   "cell_type": "code",
   "execution_count": 28,
   "id": "f30a9800",
   "metadata": {},
   "outputs": [
    {
     "data": {
      "text/plain": [
       "'python'"
      ]
     },
     "execution_count": 28,
     "metadata": {},
     "output_type": "execute_result"
    }
   ],
   "source": [
    "str('python')"
   ]
  },
  {
   "cell_type": "markdown",
   "id": "6a3e5239",
   "metadata": {},
   "source": [
    "Error 7 :"
   ]
  },
  {
   "cell_type": "code",
   "execution_count": 31,
   "id": "a8ac9fd0",
   "metadata": {},
   "outputs": [],
   "source": [
    "p = 'python'\n",
    "# il faut définir \" python \""
   ]
  },
  {
   "cell_type": "markdown",
   "id": "9fdde9d3",
   "metadata": {},
   "source": [
    "Error 8 :"
   ]
  },
  {
   "cell_type": "code",
   "execution_count": 32,
   "id": "61d7d8d5",
   "metadata": {},
   "outputs": [],
   "source": [
    "x=19/1\n",
    "# on peut pas diviser par 0 \n"
   ]
  },
  {
   "cell_type": "code",
   "execution_count": null,
   "id": "4775c345",
   "metadata": {},
   "outputs": [],
   "source": []
  }
 ],
 "metadata": {
  "kernelspec": {
   "display_name": "Python 3",
   "language": "python",
   "name": "python3"
  },
  "language_info": {
   "codemirror_mode": {
    "name": "ipython",
    "version": 3
   },
   "file_extension": ".py",
   "mimetype": "text/x-python",
   "name": "python",
   "nbconvert_exporter": "python",
   "pygments_lexer": "ipython3",
   "version": "3.8.8"
  }
 },
 "nbformat": 4,
 "nbformat_minor": 5
}
