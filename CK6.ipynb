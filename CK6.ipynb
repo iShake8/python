{
 "cells": [
  {
   "cell_type": "markdown",
   "id": "7aced45d",
   "metadata": {},
   "source": [
    "# Exercice 1\n"
   ]
  },
  {
   "cell_type": "code",
   "execution_count": 2,
   "id": "b90bd920",
   "metadata": {},
   "outputs": [
    {
     "data": {
      "text/plain": [
       "[[1, 2], [3, 4]]"
      ]
     },
     "execution_count": 2,
     "metadata": {},
     "output_type": "execute_result"
    }
   ],
   "source": [
    "import numpy as np\n",
    "\n",
    "a = np.array([[1, 2], [3, 4]])\n",
    "a.tolist()"
   ]
  },
  {
   "cell_type": "markdown",
   "id": "07285eff",
   "metadata": {},
   "source": [
    "# Exercice 2 \n"
   ]
  },
  {
   "cell_type": "code",
   "execution_count": 13,
   "id": "69d652e9",
   "metadata": {},
   "outputs": [
    {
     "data": {
      "text/plain": [
       "3"
      ]
     },
     "execution_count": 13,
     "metadata": {},
     "output_type": "execute_result"
    }
   ],
   "source": [
    "import numpy as np\n",
    "\n",
    "a = np.array([(1, 1), (1, 2)])\n",
    "a.trace()"
   ]
  },
  {
   "cell_type": "markdown",
   "id": "c4eb7ec4",
   "metadata": {},
   "source": [
    "# Exercice 3 "
   ]
  },
  {
   "cell_type": "code",
   "execution_count": 37,
   "id": "f326bb35",
   "metadata": {},
   "outputs": [
    {
     "name": "stdout",
     "output_type": "stream",
     "text": [
      "[3 5]\n"
     ]
    }
   ],
   "source": [
    "import numpy as np\n",
    "a = np.array([[1,2],[3,5]])\n",
    "print( a[a>2])\n",
    "\n"
   ]
  },
  {
   "cell_type": "markdown",
   "id": "fcc98275",
   "metadata": {},
   "source": [
    "# Exercice 4 "
   ]
  },
  {
   "cell_type": "code",
   "execution_count": 22,
   "id": "0a4034d1",
   "metadata": {
    "scrolled": true
   },
   "outputs": [
    {
     "name": "stdout",
     "output_type": "stream",
     "text": [
      "[[ 2  4]\n",
      " [ 6  8]\n",
      " [10 12]]\n"
     ]
    }
   ],
   "source": [
    "import numpy as np\n",
    "\n",
    "a = np.array([(1, 2), (3, 4), (5,6)])\n",
    "b = np.array([(1, 2), (3, 4), (5,6)])\n",
    "c = np.add(a, b) \n",
    "print(c)"
   ]
  },
  {
   "cell_type": "markdown",
   "id": "19d6c747",
   "metadata": {},
   "source": [
    "# Exercice 5 "
   ]
  },
  {
   "cell_type": "code",
   "execution_count": 36,
   "id": "3cb18105",
   "metadata": {},
   "outputs": [
    {
     "name": "stdout",
     "output_type": "stream",
     "text": [
      "[[0 1]\n",
      " [0 0]]\n"
     ]
    }
   ],
   "source": [
    "import numpy as np\n",
    "a = np.array([(1, 2), (2, 2)])\n",
    "b = a[0].mean()\n",
    "c = a[1].mean()\n",
    "\n",
    "a[0]= a[0] - int(b)\n",
    "a[1]= a[1] - int(c)\n",
    "\n",
    "print(a)\n",
    "\n",
    "\n",
    "    \n",
    "\n"
   ]
  },
  {
   "cell_type": "code",
   "execution_count": null,
   "id": "946d581e",
   "metadata": {},
   "outputs": [],
   "source": []
  }
 ],
 "metadata": {
  "kernelspec": {
   "display_name": "Python 3",
   "language": "python",
   "name": "python3"
  },
  "language_info": {
   "codemirror_mode": {
    "name": "ipython",
    "version": 3
   },
   "file_extension": ".py",
   "mimetype": "text/x-python",
   "name": "python",
   "nbconvert_exporter": "python",
   "pygments_lexer": "ipython3",
   "version": "3.8.8"
  }
 },
 "nbformat": 4,
 "nbformat_minor": 5
}
